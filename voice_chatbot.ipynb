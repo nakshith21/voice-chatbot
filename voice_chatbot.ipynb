{
  "nbformat": 4,
  "nbformat_minor": 0,
  "metadata": {
    "colab": {
      "name": "voice chatbot.ipynb",
      "provenance": [],
      "authorship_tag": "ABX9TyOvN/F5AxHAcFTkZXEAAiBJ",
      "include_colab_link": true
    },
    "kernelspec": {
      "name": "python3",
      "display_name": "Python 3"
    },
    "language_info": {
      "name": "python"
    }
  },
  "cells": [
    {
      "cell_type": "markdown",
      "metadata": {
        "id": "view-in-github",
        "colab_type": "text"
      },
      "source": [
        "<a href=\"https://colab.research.google.com/github/nakshith21/voice-chatbot/blob/main/voice_chatbot.ipynb\" target=\"_parent\"><img src=\"https://colab.research.google.com/assets/colab-badge.svg\" alt=\"Open In Colab\"/></a>"
      ]
    },
    {
      "cell_type": "markdown",
      "source": [
        "Packages and Libraries Installation"
      ],
      "metadata": {
        "id": "evf4jbBDOwnA"
      }
    },
    {
      "cell_type": "code",
      "execution_count": 1,
      "metadata": {
        "colab": {
          "base_uri": "https://localhost:8080/"
        },
        "id": "38KfBUovOs6t",
        "outputId": "abb46605-027e-4be7-d721-a7f0fbdd2fa3"
      },
      "outputs": [
        {
          "output_type": "stream",
          "name": "stdout",
          "text": [
            "Looking in indexes: https://pypi.org/simple, https://us-python.pkg.dev/colab-wheels/public/simple/\n",
            "Collecting SpeechRecognition\n",
            "  Downloading SpeechRecognition-3.8.1-py2.py3-none-any.whl (32.8 MB)\n",
            "\u001b[K     |████████████████████████████████| 32.8 MB 1.3 MB/s \n",
            "\u001b[?25hRequirement already satisfied: numpy in /usr/local/lib/python3.7/dist-packages (1.21.6)\n",
            "Collecting gTTs\n",
            "  Downloading gTTS-2.2.4-py3-none-any.whl (26 kB)\n",
            "Collecting sklearn\n",
            "  Downloading sklearn-0.0.tar.gz (1.1 kB)\n",
            "Requirement already satisfied: requests in /usr/local/lib/python3.7/dist-packages (from gTTs) (2.23.0)\n",
            "Requirement already satisfied: six in /usr/local/lib/python3.7/dist-packages (from gTTs) (1.15.0)\n",
            "Requirement already satisfied: click in /usr/local/lib/python3.7/dist-packages (from gTTs) (7.1.2)\n",
            "Requirement already satisfied: scikit-learn in /usr/local/lib/python3.7/dist-packages (from sklearn) (1.0.2)\n",
            "Requirement already satisfied: certifi>=2017.4.17 in /usr/local/lib/python3.7/dist-packages (from requests->gTTs) (2022.6.15)\n",
            "Requirement already satisfied: idna<3,>=2.5 in /usr/local/lib/python3.7/dist-packages (from requests->gTTs) (2.10)\n",
            "Requirement already satisfied: urllib3!=1.25.0,!=1.25.1,<1.26,>=1.21.1 in /usr/local/lib/python3.7/dist-packages (from requests->gTTs) (1.24.3)\n",
            "Requirement already satisfied: chardet<4,>=3.0.2 in /usr/local/lib/python3.7/dist-packages (from requests->gTTs) (3.0.4)\n",
            "Requirement already satisfied: joblib>=0.11 in /usr/local/lib/python3.7/dist-packages (from scikit-learn->sklearn) (1.1.0)\n",
            "Requirement already satisfied: scipy>=1.1.0 in /usr/local/lib/python3.7/dist-packages (from scikit-learn->sklearn) (1.7.3)\n",
            "Requirement already satisfied: threadpoolctl>=2.0.0 in /usr/local/lib/python3.7/dist-packages (from scikit-learn->sklearn) (3.1.0)\n",
            "Building wheels for collected packages: sklearn\n",
            "  Building wheel for sklearn (setup.py) ... \u001b[?25l\u001b[?25hdone\n",
            "  Created wheel for sklearn: filename=sklearn-0.0-py2.py3-none-any.whl size=1310 sha256=3706af1780a153c1c8951fb7f851191de20db77a388ade8cbf92117ce85c92e6\n",
            "  Stored in directory: /root/.cache/pip/wheels/46/ef/c3/157e41f5ee1372d1be90b09f74f82b10e391eaacca8f22d33e\n",
            "Successfully built sklearn\n",
            "Installing collected packages: SpeechRecognition, sklearn, gTTs\n",
            "Successfully installed SpeechRecognition-3.8.1 gTTs-2.2.4 sklearn-0.0\n"
          ]
        }
      ],
      "source": [
        "!pip install SpeechRecognition numpy gTTs sklearn"
      ]
    },
    {
      "cell_type": "code",
      "source": [
        "!apt-get install mpg123\n",
        "!apt-get install portaudio19-dev python-all-dev python3-all-dev"
      ],
      "metadata": {
        "colab": {
          "base_uri": "https://localhost:8080/"
        },
        "id": "taYziZoEO1t5",
        "outputId": "7e874f1e-4f4f-485a-e31d-63000f678759"
      },
      "execution_count": 2,
      "outputs": [
        {
          "output_type": "stream",
          "name": "stdout",
          "text": [
            "Reading package lists... Done\n",
            "Building dependency tree       \n",
            "Reading state information... Done\n",
            "The following package was automatically installed and is no longer required:\n",
            "  libnvidia-common-460\n",
            "Use 'apt autoremove' to remove it.\n",
            "The following additional packages will be installed:\n",
            "  libaudio2 libout123-0 libportaudio2\n",
            "Suggested packages:\n",
            "  nas alsa-utils jackd oss-compat oss4-base pulseaudio\n",
            "The following NEW packages will be installed:\n",
            "  libaudio2 libout123-0 libportaudio2 mpg123\n",
            "0 upgraded, 4 newly installed, 0 to remove and 20 not upgraded.\n",
            "Need to get 269 kB of archives.\n",
            "After this operation, 922 kB of additional disk space will be used.\n",
            "Get:1 http://archive.ubuntu.com/ubuntu bionic/main amd64 libaudio2 amd64 1.9.4-6 [50.3 kB]\n",
            "Get:2 http://archive.ubuntu.com/ubuntu bionic/main amd64 libout123-0 amd64 1.25.10-1 [23.9 kB]\n",
            "Get:3 http://archive.ubuntu.com/ubuntu bionic/universe amd64 libportaudio2 amd64 19.6.0-1 [64.6 kB]\n",
            "Get:4 http://archive.ubuntu.com/ubuntu bionic/universe amd64 mpg123 amd64 1.25.10-1 [130 kB]\n",
            "Fetched 269 kB in 1s (232 kB/s)\n",
            "Selecting previously unselected package libaudio2:amd64.\n",
            "(Reading database ... 155676 files and directories currently installed.)\n",
            "Preparing to unpack .../libaudio2_1.9.4-6_amd64.deb ...\n",
            "Unpacking libaudio2:amd64 (1.9.4-6) ...\n",
            "Selecting previously unselected package libout123-0:amd64.\n",
            "Preparing to unpack .../libout123-0_1.25.10-1_amd64.deb ...\n",
            "Unpacking libout123-0:amd64 (1.25.10-1) ...\n",
            "Selecting previously unselected package libportaudio2:amd64.\n",
            "Preparing to unpack .../libportaudio2_19.6.0-1_amd64.deb ...\n",
            "Unpacking libportaudio2:amd64 (19.6.0-1) ...\n",
            "Selecting previously unselected package mpg123.\n",
            "Preparing to unpack .../mpg123_1.25.10-1_amd64.deb ...\n",
            "Unpacking mpg123 (1.25.10-1) ...\n",
            "Setting up libout123-0:amd64 (1.25.10-1) ...\n",
            "Setting up libportaudio2:amd64 (19.6.0-1) ...\n",
            "Setting up libaudio2:amd64 (1.9.4-6) ...\n",
            "Setting up mpg123 (1.25.10-1) ...\n",
            "update-alternatives: using /usr/bin/mpg123.bin to provide /usr/bin/mpg123 (mpg123) in auto mode\n",
            "update-alternatives: using /usr/bin/mpg123.bin to provide /usr/bin/mp3-decoder (mp3-decoder) in auto mode\n",
            "Processing triggers for mime-support (3.60ubuntu1) ...\n",
            "Processing triggers for libc-bin (2.27-3ubuntu1.5) ...\n",
            "Processing triggers for man-db (2.8.3-2ubuntu0.1) ...\n",
            "Reading package lists... Done\n",
            "Building dependency tree       \n",
            "Reading state information... Done\n",
            "The following package was automatically installed and is no longer required:\n",
            "  libnvidia-common-460\n",
            "Use 'apt autoremove' to remove it.\n",
            "The following additional packages will be installed:\n",
            "  libportaudiocpp0 libpython-all-dev libpython3-all-dev python-all python3-all\n",
            "Suggested packages:\n",
            "  portaudio19-doc\n",
            "The following NEW packages will be installed:\n",
            "  libportaudiocpp0 libpython-all-dev libpython3-all-dev portaudio19-dev\n",
            "  python-all python-all-dev python3-all python3-all-dev\n",
            "0 upgraded, 8 newly installed, 0 to remove and 20 not upgraded.\n",
            "Need to get 126 kB of archives.\n",
            "After this operation, 713 kB of additional disk space will be used.\n",
            "Get:1 http://archive.ubuntu.com/ubuntu bionic/universe amd64 libportaudiocpp0 amd64 19.6.0-1 [15.1 kB]\n",
            "Get:2 http://archive.ubuntu.com/ubuntu bionic/main amd64 libpython-all-dev amd64 2.7.15~rc1-1 [1,092 B]\n",
            "Get:3 http://archive.ubuntu.com/ubuntu bionic-updates/main amd64 libpython3-all-dev amd64 3.6.7-1~18.04 [1,096 B]\n",
            "Get:4 http://archive.ubuntu.com/ubuntu bionic/universe amd64 portaudio19-dev amd64 19.6.0-1 [104 kB]\n",
            "Get:5 http://archive.ubuntu.com/ubuntu bionic/main amd64 python-all amd64 2.7.15~rc1-1 [1,076 B]\n",
            "Get:6 http://archive.ubuntu.com/ubuntu bionic/main amd64 python-all-dev amd64 2.7.15~rc1-1 [1,100 B]\n",
            "Get:7 http://archive.ubuntu.com/ubuntu bionic-updates/main amd64 python3-all amd64 3.6.7-1~18.04 [1,092 B]\n",
            "Get:8 http://archive.ubuntu.com/ubuntu bionic-updates/main amd64 python3-all-dev amd64 3.6.7-1~18.04 [1,100 B]\n",
            "Fetched 126 kB in 1s (142 kB/s)\n",
            "Selecting previously unselected package libportaudiocpp0:amd64.\n",
            "(Reading database ... 155737 files and directories currently installed.)\n",
            "Preparing to unpack .../0-libportaudiocpp0_19.6.0-1_amd64.deb ...\n",
            "Unpacking libportaudiocpp0:amd64 (19.6.0-1) ...\n",
            "Selecting previously unselected package libpython-all-dev:amd64.\n",
            "Preparing to unpack .../1-libpython-all-dev_2.7.15~rc1-1_amd64.deb ...\n",
            "Unpacking libpython-all-dev:amd64 (2.7.15~rc1-1) ...\n",
            "Selecting previously unselected package libpython3-all-dev:amd64.\n",
            "Preparing to unpack .../2-libpython3-all-dev_3.6.7-1~18.04_amd64.deb ...\n",
            "Unpacking libpython3-all-dev:amd64 (3.6.7-1~18.04) ...\n",
            "Selecting previously unselected package portaudio19-dev:amd64.\n",
            "Preparing to unpack .../3-portaudio19-dev_19.6.0-1_amd64.deb ...\n",
            "Unpacking portaudio19-dev:amd64 (19.6.0-1) ...\n",
            "Selecting previously unselected package python-all.\n",
            "Preparing to unpack .../4-python-all_2.7.15~rc1-1_amd64.deb ...\n",
            "Unpacking python-all (2.7.15~rc1-1) ...\n",
            "Selecting previously unselected package python-all-dev.\n",
            "Preparing to unpack .../5-python-all-dev_2.7.15~rc1-1_amd64.deb ...\n",
            "Unpacking python-all-dev (2.7.15~rc1-1) ...\n",
            "Selecting previously unselected package python3-all.\n",
            "Preparing to unpack .../6-python3-all_3.6.7-1~18.04_amd64.deb ...\n",
            "Unpacking python3-all (3.6.7-1~18.04) ...\n",
            "Selecting previously unselected package python3-all-dev.\n",
            "Preparing to unpack .../7-python3-all-dev_3.6.7-1~18.04_amd64.deb ...\n",
            "Unpacking python3-all-dev (3.6.7-1~18.04) ...\n",
            "Setting up libportaudiocpp0:amd64 (19.6.0-1) ...\n",
            "Setting up portaudio19-dev:amd64 (19.6.0-1) ...\n",
            "Setting up libpython-all-dev:amd64 (2.7.15~rc1-1) ...\n",
            "Setting up libpython3-all-dev:amd64 (3.6.7-1~18.04) ...\n",
            "Setting up python3-all (3.6.7-1~18.04) ...\n",
            "Setting up python-all (2.7.15~rc1-1) ...\n",
            "Setting up python3-all-dev (3.6.7-1~18.04) ...\n",
            "Setting up python-all-dev (2.7.15~rc1-1) ...\n",
            "Processing triggers for libc-bin (2.27-3ubuntu1.5) ...\n"
          ]
        }
      ]
    },
    {
      "cell_type": "code",
      "source": [
        "import io\n",
        "import random\n",
        "import string\n",
        "import warnings\n",
        "import numpy as np\n",
        "from sklearn.feature_extraction.text import TfidfVectorizer\n",
        "from sklearn.metrics.pairwise import cosine_similarity\n",
        "import warnings\n",
        "from gtts import gTTS\n",
        "import os\n",
        "warnings.filterwarnings('ignore')\n",
        "import speech_recognition as sr \n",
        "import nltk\n",
        "from nltk.stem import WordNetLemmatizer\n",
        "#for downloading package files can be commented after First run\n",
        "nltk.download('popular', quiet=True)\n",
        "nltk.download('nps_chat',quiet=True)\n",
        "nltk.download('punkt') \n",
        "nltk.download('wordnet')"
      ],
      "metadata": {
        "colab": {
          "base_uri": "https://localhost:8080/"
        },
        "id": "fi-6RqASO5g_",
        "outputId": "f904fa8a-0f65-4506-f376-7a63203cde64"
      },
      "execution_count": 3,
      "outputs": [
        {
          "output_type": "stream",
          "name": "stderr",
          "text": [
            "[nltk_data] Downloading package punkt to /root/nltk_data...\n",
            "[nltk_data]   Package punkt is already up-to-date!\n",
            "[nltk_data] Downloading package wordnet to /root/nltk_data...\n",
            "[nltk_data]   Package wordnet is already up-to-date!\n"
          ]
        },
        {
          "output_type": "execute_result",
          "data": {
            "text/plain": [
              "True"
            ]
          },
          "metadata": {},
          "execution_count": 3
        }
      ]
    },
    {
      "cell_type": "code",
      "source": [
        "!apt install libasound2-dev portaudio19-dev libportaudio2 libportaudiocpp0 ffmpeg\n",
        "!pip install pyaudio"
      ],
      "metadata": {
        "colab": {
          "base_uri": "https://localhost:8080/"
        },
        "id": "sof3lXQLO8g3",
        "outputId": "20f4ad17-0927-46a7-d85e-05b55d8f696c"
      },
      "execution_count": 4,
      "outputs": [
        {
          "output_type": "stream",
          "name": "stdout",
          "text": [
            "Reading package lists... Done\n",
            "Building dependency tree       \n",
            "Reading state information... Done\n",
            "libportaudio2 is already the newest version (19.6.0-1).\n",
            "libportaudio2 set to manually installed.\n",
            "libportaudiocpp0 is already the newest version (19.6.0-1).\n",
            "libportaudiocpp0 set to manually installed.\n",
            "portaudio19-dev is already the newest version (19.6.0-1).\n",
            "libasound2-dev is already the newest version (1.1.3-5ubuntu0.6).\n",
            "ffmpeg is already the newest version (7:3.4.11-0ubuntu0.1).\n",
            "The following package was automatically installed and is no longer required:\n",
            "  libnvidia-common-460\n",
            "Use 'apt autoremove' to remove it.\n",
            "0 upgraded, 0 newly installed, 0 to remove and 20 not upgraded.\n",
            "Looking in indexes: https://pypi.org/simple, https://us-python.pkg.dev/colab-wheels/public/simple/\n",
            "Collecting pyaudio\n",
            "  Downloading PyAudio-0.2.12.tar.gz (42 kB)\n",
            "\u001b[K     |████████████████████████████████| 42 kB 1.6 MB/s \n",
            "\u001b[?25h  Installing build dependencies ... \u001b[?25l\u001b[?25hdone\n",
            "  Getting requirements to build wheel ... \u001b[?25l\u001b[?25hdone\n",
            "    Preparing wheel metadata ... \u001b[?25l\u001b[?25hdone\n",
            "Building wheels for collected packages: pyaudio\n",
            "  Building wheel for pyaudio (PEP 517) ... \u001b[?25l\u001b[?25hdone\n",
            "  Created wheel for pyaudio: filename=PyAudio-0.2.12-cp37-cp37m-linux_x86_64.whl size=53813 sha256=9ec3b441daaa780cac7800df6b4fa1fa8929b80dfcc463a6528d56b9b26a1377\n",
            "  Stored in directory: /root/.cache/pip/wheels/35/e0/b2/0e02f4af505bc69cd9f349eba8d6c558cd07e184a9a16f3537\n",
            "Successfully built pyaudio\n",
            "Installing collected packages: pyaudio\n",
            "Successfully installed pyaudio-0.2.12\n"
          ]
        }
      ]
    },
    {
      "cell_type": "code",
      "source": [
        "!apt install libasound2-dev portaudio19-dev libportaudio2 libportaudiocpp0 ffmpeg\n",
        "!pip install PyAudio\n",
        "!pip install ffmpeg-python"
      ],
      "metadata": {
        "colab": {
          "base_uri": "https://localhost:8080/"
        },
        "id": "jnokndvuO-sq",
        "outputId": "ba43e2ce-3f8b-471b-c1b7-937f6e2822b4"
      },
      "execution_count": 5,
      "outputs": [
        {
          "output_type": "stream",
          "name": "stdout",
          "text": [
            "Reading package lists... Done\n",
            "Building dependency tree       \n",
            "Reading state information... Done\n",
            "libportaudio2 is already the newest version (19.6.0-1).\n",
            "libportaudiocpp0 is already the newest version (19.6.0-1).\n",
            "portaudio19-dev is already the newest version (19.6.0-1).\n",
            "libasound2-dev is already the newest version (1.1.3-5ubuntu0.6).\n",
            "ffmpeg is already the newest version (7:3.4.11-0ubuntu0.1).\n",
            "The following package was automatically installed and is no longer required:\n",
            "  libnvidia-common-460\n",
            "Use 'apt autoremove' to remove it.\n",
            "0 upgraded, 0 newly installed, 0 to remove and 20 not upgraded.\n",
            "Looking in indexes: https://pypi.org/simple, https://us-python.pkg.dev/colab-wheels/public/simple/\n",
            "Requirement already satisfied: PyAudio in /usr/local/lib/python3.7/dist-packages (0.2.12)\n",
            "Looking in indexes: https://pypi.org/simple, https://us-python.pkg.dev/colab-wheels/public/simple/\n",
            "Collecting ffmpeg-python\n",
            "  Downloading ffmpeg_python-0.2.0-py3-none-any.whl (25 kB)\n",
            "Requirement already satisfied: future in /usr/local/lib/python3.7/dist-packages (from ffmpeg-python) (0.16.0)\n",
            "Installing collected packages: ffmpeg-python\n",
            "Successfully installed ffmpeg-python-0.2.0\n"
          ]
        }
      ]
    },
    {
      "cell_type": "code",
      "source": [
        "from __future__ import print_function\n",
        "import scipy.io.wavfile as wavf\n",
        "import numpy as np"
      ],
      "metadata": {
        "id": "-TueXAfnPBDn"
      },
      "execution_count": 6,
      "outputs": []
    },
    {
      "cell_type": "code",
      "source": [
        "!pip3 install SpeechRecognition pydub \n",
        "# importing libraries\n",
        "!pip3 install SpeechRecognition pydub"
      ],
      "metadata": {
        "colab": {
          "base_uri": "https://localhost:8080/"
        },
        "id": "cZx7PPJEPDwY",
        "outputId": "0676b377-a18b-46e8-9a60-c70107c1be03"
      },
      "execution_count": 7,
      "outputs": [
        {
          "output_type": "stream",
          "name": "stdout",
          "text": [
            "Looking in indexes: https://pypi.org/simple, https://us-python.pkg.dev/colab-wheels/public/simple/\n",
            "Requirement already satisfied: SpeechRecognition in /usr/local/lib/python3.7/dist-packages (3.8.1)\n",
            "Collecting pydub\n",
            "  Downloading pydub-0.25.1-py2.py3-none-any.whl (32 kB)\n",
            "Installing collected packages: pydub\n",
            "Successfully installed pydub-0.25.1\n",
            "Looking in indexes: https://pypi.org/simple, https://us-python.pkg.dev/colab-wheels/public/simple/\n",
            "Requirement already satisfied: SpeechRecognition in /usr/local/lib/python3.7/dist-packages (3.8.1)\n",
            "Requirement already satisfied: pydub in /usr/local/lib/python3.7/dist-packages (0.25.1)\n"
          ]
        }
      ]
    },
    {
      "cell_type": "code",
      "source": [
        "import speech_recognition as sr \n",
        "import os \n",
        "from pydub import AudioSegment\n",
        "from pydub.silence import split_on_silence"
      ],
      "metadata": {
        "id": "gPZsYyFLPGG6"
      },
      "execution_count": 8,
      "outputs": []
    },
    {
      "cell_type": "markdown",
      "source": [
        "VOICE CHATBOT"
      ],
      "metadata": {
        "id": "rGunFayaPJgk"
      }
    },
    {
      "cell_type": "markdown",
      "source": [
        "Option A- Question and Answers\n",
        "\n",
        "We will write a function to classify user input, which uses nps_chat corpora and naive Bayes classifier to categorize the input type by classifying them into listed categories.Where else Bot will answer only to Question type classes.\n",
        "Greet\n",
        "\n",
        "”Bye”>\n",
        "\n",
        "”Clarify”>\n",
        "\n",
        "”Continuer”>\n",
        "\n",
        "”Emotion”>\n",
        "\n",
        "”Emphasis”>\n",
        "\n",
        "”Greet”>\n",
        "\n",
        "”Reject”>\n",
        "\n",
        "”Statement”>\n",
        "\n",
        "”System”>\n",
        "\n",
        "”nAnswer”>\n",
        "\n",
        "”whQuestion”>\n",
        "\n",
        "”yAnswer”>\n",
        "\n",
        "”ynQuestion”>\n",
        "\n",
        "”Other”"
      ],
      "metadata": {
        "id": "nO8KjXFBPPGX"
      }
    },
    {
      "cell_type": "code",
      "source": [
        "posts = nltk.corpus.nps_chat.xml_posts()[:10000]\n",
        "# To Recognise input type as QUES. \n",
        "def dialogue_act_features(post):\n",
        "    features = {}\n",
        "    for word in nltk.word_tokenize(post):\n",
        "        features['contains({})'.format(word.lower())] = True\n",
        "    return features\n",
        "featuresets = [(dialogue_act_features(post.text), post.get('class')) for post in posts]\n",
        "size = int(len(featuresets) * 0.1)\n",
        "train_set, test_set = featuresets[size:], featuresets[:size]\n",
        "classifier = nltk.NaiveBayesClassifier.train(train_set)"
      ],
      "metadata": {
        "id": "wAt5xozsPIwP"
      },
      "execution_count": 9,
      "outputs": []
    },
    {
      "cell_type": "markdown",
      "source": [
        " A greeting function : to make the chatbot more engaging and interactive."
      ],
      "metadata": {
        "id": "NHKrOXLRPc5K"
      }
    },
    {
      "cell_type": "code",
      "source": [
        "# Keyword Matching\n",
        "GREETING_INPUTS = (\"hello\", \"hi\", \"greetings\", \"sup\", \"what's up\",\"hey\",)\n",
        "GREETING_RESPONSES = [\"hi\", \"hey\", \"*nods*\", \"hi there\", \"hello\", \"I am glad! You are talking to me\"]\n",
        "def greeting(sentence):\n",
        "    \"\"\"If user's input is a greeting, return a greeting response\"\"\"\n",
        "    for word in sentence.split():\n",
        "        if word.lower() in GREETING_INPUTS:\n",
        "            return random.choice(GREETING_RESPONSES)"
      ],
      "metadata": {
        "id": "bMVOZ53RPdw_"
      },
      "execution_count": 10,
      "outputs": []
    },
    {
      "cell_type": "markdown",
      "source": [
        " Data Preprocessing:\n",
        "\n",
        "Call Corpus of our chatbot and perform some NLP pre-processing steps on it, i.e., Sentence and Word Tokenization, Lemmatization, Normalisation.\n",
        "\n",
        "Tokenization: Chopping it up into pieces, called tokens.\n",
        "\n",
        "Sentence : Based on punctuations such as “.”, “?”, “!” as they tend to mark the sentence boundaries.\n",
        "Word Tokenization : Separate words via unique space character.\n",
        "Lemmatization : Reduce a word to its Lemma, or Canonical Form (Dictionary words form).\n",
        "\n",
        "For e.g : plural->singular, verbs, time/participle variants -> present tense (ate-> eat) etc.\n",
        "\n",
        "Corpus : \"intro_join.txt\" file(a article pasted from wikipedia)"
      ],
      "metadata": {
        "id": "TBmFhF4SPidn"
      }
    },
    {
      "cell_type": "code",
      "source": [
        "!wget https://raw.githubusercontent.com/vaishnavipatil29/Voice-Chatbot/main/intro_join.txt"
      ],
      "metadata": {
        "colab": {
          "base_uri": "https://localhost:8080/"
        },
        "id": "KqYX7buhPjPQ",
        "outputId": "da4d1a4f-4b40-4c3e-8b8c-54c810b3750e"
      },
      "execution_count": 11,
      "outputs": [
        {
          "output_type": "stream",
          "name": "stdout",
          "text": [
            "--2022-08-24 05:06:06--  https://raw.githubusercontent.com/vaishnavipatil29/Voice-Chatbot/main/intro_join.txt\n",
            "Resolving raw.githubusercontent.com (raw.githubusercontent.com)... 185.199.109.133, 185.199.108.133, 185.199.110.133, ...\n",
            "Connecting to raw.githubusercontent.com (raw.githubusercontent.com)|185.199.109.133|:443... connected.\n",
            "HTTP request sent, awaiting response... 200 OK\n",
            "Length: 18838 (18K) [text/plain]\n",
            "Saving to: ‘intro_join.txt’\n",
            "\n",
            "\rintro_join.txt        0%[                    ]       0  --.-KB/s               \rintro_join.txt      100%[===================>]  18.40K  --.-KB/s    in 0.001s  \n",
            "\n",
            "2022-08-24 05:06:06 (27.1 MB/s) - ‘intro_join.txt’ saved [18838/18838]\n",
            "\n"
          ]
        }
      ]
    },
    {
      "cell_type": "code",
      "source": [
        "#Reading in the input_corpus\n",
        "with open('intro_join.txt','r', encoding='utf8', errors ='ignore') as fin:\n",
        "    raw = fin.read().lower()\n",
        "#TOkenisation\n",
        "sent_tokens = nltk.sent_tokenize(raw)# converts to list of sentences \n",
        "word_tokens = nltk.word_tokenize(raw)# converts to list of words\n",
        "# Preprocessing\n",
        "lemmer = WordNetLemmatizer()\n",
        "def LemTokens(tokens):\n",
        "    return [lemmer.lemmatize(token) for token in tokens]\n",
        "remove_punct_dict = dict((ord(punct), None) for punct in string.punctuation)\n",
        "def LemNormalize(text):\n",
        "    return LemTokens(nltk.word_tokenize(text.lower().translate(remove_punct_dict)))"
      ],
      "metadata": {
        "id": "oLEX_f8fPnWX"
      },
      "execution_count": 12,
      "outputs": []
    },
    {
      "cell_type": "markdown",
      "source": [
        " Color pallet: A list of functions using the format command, for adding color to std terminal output."
      ],
      "metadata": {
        "id": "RTzXDoB7Ppvf"
      }
    },
    {
      "cell_type": "code",
      "source": [
        "#colour palet\n",
        "def prRed(skk): print(\"\\033[91m {}\\033[00m\" .format(skk)) \n",
        "def prGreen(skk): print(\"\\033[92m {}\\033[00m\" .format(skk)) \n",
        "def prYellow(skk): print(\"\\033[93m {}\\033[00m\" .format(skk)) \n",
        "def prLightPurple(skk): print(\"\\033[94m {}\\033[00m\" .format(skk)) \n",
        "def prPurple(skk): print(\"\\033[95m {}\\033[00m\" .format(skk)) \n",
        "def prCyan(skk): print(\"\\033[96m {}\\033[00m\" .format(skk)) \n",
        "def prLightGray(skk): print(\"\\033[97m {}\\033[00m\" .format(skk)) \n",
        "def prBlack(skk): print(\"\\033[98m {}\\033[00m\" .format(skk))"
      ],
      "metadata": {
        "id": "Ze6eNnQzPqdA"
      },
      "execution_count": 13,
      "outputs": []
    },
    {
      "cell_type": "markdown",
      "source": [
        " Response function : Processing the user response converting it into a vectorized form and get the best result from Corpus via computing TF-IDF cosine similarity between the question and answer.\n",
        "\n",
        "Document Similarity is a concept which involves determination of how similar two or more documents are with respect to each other.\n",
        "\n",
        "Represent documents as vectors using TF-IDF. Once we have the vector representation, we can similarly find the similarity using any of the similarity metrics such as cosine similarity.\n",
        "\n",
        "Cosine similarity defines the similarity between two or more documents by measuring cosine of angle between two vectors derived from the documents."
      ],
      "metadata": {
        "id": "VJpWOCmjPuDe"
      }
    },
    {
      "cell_type": "code",
      "source": [
        "# Generating response and processing \n",
        "def response(user_response):\n",
        "    robo_response=''\n",
        "    sent_tokens.append(user_response)\n",
        "    TfidfVec = TfidfVectorizer(tokenizer=LemNormalize, stop_words='english')  #Calculate document vector\n",
        "    tfidf = TfidfVec.fit_transform(sent_tokens) #Calculate tf-idf for the given document \n",
        "    vals = cosine_similarity(tfidf[-1], tfidf)  #Calculate the Cosine Similarity\n",
        "    idx=vals.argsort()[0][-2]\n",
        "    flat = vals.flatten()\n",
        "    flat.sort()\n",
        "    req_tfidf = flat[-2]\n",
        "    if(req_tfidf==0):\n",
        "        robo_response=robo_response+\"I am sorry! I don't understand you\"\n",
        "        return robo_response\n",
        "    else:\n",
        "        robo_response = robo_response+sent_tokens[idx]\n",
        "        return robo_response"
      ],
      "metadata": {
        "id": "R9n0DihTPuuH"
      },
      "execution_count": 14,
      "outputs": []
    },
    {
      "cell_type": "markdown",
      "source": [
        "First message from Bot"
      ],
      "metadata": {
        "id": "O8EQ-VI9Pyhm"
      }
    },
    {
      "cell_type": "code",
      "source": [
        "from gtts import gTTS #Import Google Text to Speech\n",
        "from IPython.display import Audio #Import Audio method from IPython's Display Class\n",
        "tts = gTTS('My name is Rajkumar. I will answer your queries about Science. If you want to exit, say Bye') #Provide the string to convert to speech\n",
        "tts.save('file.mp3') #save the string converted to speech as a .wav file\n",
        "sound_file = 'file.mp3'\n",
        "Audio(sound_file, autoplay=True) \n",
        "\n",
        "#Autoplay = True will play the sound automatically\n",
        "#If you would not like to play the sound automatically, simply pass Autoplay = False."
      ],
      "metadata": {
        "colab": {
          "base_uri": "https://localhost:8080/",
          "height": 75
        },
        "id": "fzC5rvaKPzBW",
        "outputId": "3b5eb946-358d-4081-c5bf-5e4468bdd999"
      },
      "execution_count": 19,
      "outputs": [
        {
          "output_type": "execute_result",
          "data": {
            "text/plain": [
              "<IPython.lib.display.Audio object>"
            ],
            "text/html": [
              "\n",
              "                <audio  controls=\"controls\" autoplay=\"autoplay\">\n",
              "                    <source src=\"data:audio/mpeg;base64,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\" type=\"audio/mpeg\" />\n",
              "                    Your browser does not support the audio element.\n",
              "                </audio>\n",
              "              "
            ]
          },
          "metadata": {},
          "execution_count": 19
        }
      ]
    },
    {
      "cell_type": "code",
      "source": [
        "fst = 'My name is Rajkumar. I will answer your queries about Science. If you want to exit, say Bye'\n",
        "r = sr.Recognizer()\n",
        "prYellow(fst)"
      ],
      "metadata": {
        "colab": {
          "base_uri": "https://localhost:8080/"
        },
        "id": "7Q8YqUbIQEBh",
        "outputId": "6b6a5855-f3f0-4150-f4ca-7671cb67bffc"
      },
      "execution_count": 20,
      "outputs": [
        {
          "output_type": "stream",
          "name": "stdout",
          "text": [
            "\u001b[93m My name is Rajkumar. I will answer your queries about Science. If you want to exit, say Bye\u001b[00m\n"
          ]
        }
      ]
    },
    {
      "cell_type": "markdown",
      "source": [
        "TAKE INPUT VOICE FUNCTION:"
      ],
      "metadata": {
        "id": "JSOz3RONQQar"
      }
    },
    {
      "cell_type": "code",
      "source": [
        "from IPython.display import HTML, Audio\n",
        "from google.colab.output import eval_js\n",
        "from base64 import b64decode\n",
        "import numpy as np\n",
        "from scipy.io.wavfile import read as wav_read\n",
        "import io\n",
        "import ffmpeg\n",
        "\n",
        "AUDIO_HTML = \"\"\"\n",
        "<script>\n",
        "var my_div = document.createElement(\"DIV\");\n",
        "var my_p = document.createElement(\"P\");\n",
        "var my_btn = document.createElement(\"BUTTON\");\n",
        "var t = document.createTextNode(\"Press to start recording\");\n",
        "\n",
        "my_btn.appendChild(t);\n",
        "//my_p.appendChild(my_btn);\n",
        "my_div.appendChild(my_btn);\n",
        "document.body.appendChild(my_div);\n",
        "\n",
        "var base64data = 0;\n",
        "var reader;\n",
        "var recorder, gumStream;\n",
        "var recordButton = my_btn;\n",
        "\n",
        "var handleSuccess = function(stream) {\n",
        "  gumStream = stream;\n",
        "  var options = {\n",
        "    //bitsPerSecond: 8000, //chrome seems to ignore, always 48k\n",
        "    mimeType : 'audio/webm;codecs=opus'\n",
        "    //mimeType : 'audio/webm;codecs=pcm'\n",
        "  };            \n",
        "  //recorder = new MediaRecorder(stream, options);\n",
        "  recorder = new MediaRecorder(stream);\n",
        "  recorder.ondataavailable = function(e) {            \n",
        "    var url = URL.createObjectURL(e.data);\n",
        "    var preview = document.createElement('audio');\n",
        "    preview.controls = true;\n",
        "    preview.src = url;\n",
        "    document.body.appendChild(preview);\n",
        "\n",
        "    reader = new FileReader();\n",
        "    reader.readAsDataURL(e.data); \n",
        "    reader.onloadend = function() {\n",
        "      base64data = reader.result;\n",
        "      //console.log(\"Inside FileReader:\" + base64data);\n",
        "    }\n",
        "  };\n",
        "  recorder.start();\n",
        "  };\n",
        "\n",
        "recordButton.innerText = \"Recording... press to stop\";\n",
        "\n",
        "navigator.mediaDevices.getUserMedia({audio: true}).then(handleSuccess);\n",
        "\n",
        "\n",
        "function toggleRecording() {\n",
        "  if (recorder && recorder.state == \"recording\") {\n",
        "      recorder.stop();\n",
        "      gumStream.getAudioTracks()[0].stop();\n",
        "      recordButton.innerText = \"Saving the recording... pls wait!\"\n",
        "  }\n",
        "}\n",
        "\n",
        "// https://stackoverflow.com/a/951057\n",
        "function sleep(ms) {\n",
        "  return new Promise(resolve => setTimeout(resolve, ms));\n",
        "}\n",
        "\n",
        "var data = new Promise(resolve=>{\n",
        "//recordButton.addEventListener(\"click\", toggleRecording);\n",
        "recordButton.onclick = ()=>{\n",
        "toggleRecording()\n",
        "\n",
        "sleep(2000).then(() => {\n",
        "  // wait 2000ms for the data to be available...\n",
        "  // ideally this should use something like await...\n",
        "  //console.log(\"Inside data:\" + base64data)\n",
        "  resolve(base64data.toString())\n",
        "\n",
        "});\n",
        "\n",
        "}\n",
        "});\n",
        "      \n",
        "</script>\n",
        "\"\"\"\n",
        "\n",
        "def get_audio():\n",
        "  display(HTML(AUDIO_HTML))\n",
        "  data = eval_js(\"data\")\n",
        "  binary = b64decode(data.split(',')[1])\n",
        "  \n",
        "  process = (ffmpeg\n",
        "    .input('pipe:0')\n",
        "    .output('pipe:1', format='wav')\n",
        "    .run_async(pipe_stdin=True, pipe_stdout=True, pipe_stderr=True, quiet=True, overwrite_output=True)\n",
        "  )\n",
        "  output, err = process.communicate(input=binary)\n",
        "  \n",
        "  riff_chunk_size = len(output) - 8\n",
        "  # Break up the chunk size into four bytes, held in b.\n",
        "  q = riff_chunk_size\n",
        "  b = []\n",
        "  for i in range(4):\n",
        "      q, r = divmod(q, 256)\n",
        "      b.append(r)\n",
        "\n",
        "  # Replace bytes 4:8 in proc.stdout with the actual size of the RIFF chunk.\n",
        "  riff = output[:4] + bytes(b) + output[8:]\n",
        "\n",
        "  sr, audio = wav_read(io.BytesIO(riff))\n",
        "\n",
        "  return audio, sr"
      ],
      "metadata": {
        "id": "SF8LEIv-QQ9I"
      },
      "execution_count": 21,
      "outputs": []
    },
    {
      "cell_type": "code",
      "source": [
        "# create a speech recognition object\n",
        "r = sr.Recognizer()"
      ],
      "metadata": {
        "id": "G0WJ0bEcQXq3"
      },
      "execution_count": 22,
      "outputs": []
    },
    {
      "cell_type": "markdown",
      "source": [
        "Final user interface steps:\n",
        "\n",
        "1) Receive audio input from user. Convert the audio array into .wav file.\n",
        "\n",
        "2) Speech recognition of .wav file through get_large_audio_transcription(). [Converting it into text form]\n",
        "\n",
        "3) Searching for its answers from the processed Corpus, and returning the output."
      ],
      "metadata": {
        "id": "U4hCOeVTQaiq"
      }
    },
    {
      "cell_type": "code",
      "source": [
        "!pip3 install SpeechRecognition pydub \n",
        "# importing libraries\n",
        "!pip3 install SpeechRecognition pydub  \n",
        "import speech_recognition as sr \n",
        "import os \n",
        "from pydub import AudioSegment\n",
        "from pydub.silence import split_on_silence\n",
        "\n",
        "# create a speech recognition object\n",
        "r = sr.Recognizer()\n",
        "\n",
        "# a function that splits the audio file into chunks\n",
        "# and applies speech recognition\n",
        "def get_large_audio_transcription(path):\n",
        "    \"\"\"\n",
        "    Splitting the large audio file into chunks\n",
        "    and apply speech recognition on each of these chunks\n",
        "    \"\"\"\n",
        "    # open the audio file using pydub\n",
        "    sound = AudioSegment.from_wav(path)  \n",
        "    # split audio sound where silence is 700 miliseconds or more and get chunks\n",
        "    chunks = split_on_silence(sound,\n",
        "        # experiment with this value for your target audio file\n",
        "        min_silence_len = 500,\n",
        "        # adjust this per requirement\n",
        "        silence_thresh = sound.dBFS-14,\n",
        "        # keep the silence for 1 second, adjustable as well\n",
        "        keep_silence=500,\n",
        "    )\n",
        "    folder_name = \"audio-chunks\"\n",
        "    # create a directory to store the audio chunks\n",
        "    if not os.path.isdir(folder_name):\n",
        "        os.mkdir(folder_name)\n",
        "    whole_text = \"\"\n",
        "    # process each chunk \n",
        "    for i, audio_chunk in enumerate(chunks, start=1):\n",
        "        # export audio chunk and save it in\n",
        "        # the `folder_name` directory.\n",
        "        chunk_filename = os.path.join(folder_name, f\"chunk{i}.wav\")\n",
        "        audio_chunk.export(chunk_filename, format=\"wav\")\n",
        "        # recognize the chunk\n",
        "        with sr.AudioFile(chunk_filename) as source:\n",
        "            audio_listened = r.record(source)\n",
        "            # try converting it to text\n",
        "            try:\n",
        "                text = r.recognize_google(audio_listened)\n",
        "            except sr.UnknownValueError as e:\n",
        "                print(\"Error:\", str(e))\n",
        "            else:\n",
        "                text = f\"{text.capitalize()}. \"\n",
        "                print(chunk_filename, \":\", text)\n",
        "                whole_text += text\n",
        "    # return the text for all chunks detected\n",
        "    return whole_text\n",
        "\n",
        "#path = \"o.wav\"\n",
        "#print(\"\\nFull text:\", get_large_audio_transcription(path))"
      ],
      "metadata": {
        "colab": {
          "base_uri": "https://localhost:8080/"
        },
        "id": "mIihYYslQbNn",
        "outputId": "c36e8ef5-4d41-4567-d9ed-c7e573347cc5"
      },
      "execution_count": 23,
      "outputs": [
        {
          "output_type": "stream",
          "name": "stdout",
          "text": [
            "Looking in indexes: https://pypi.org/simple, https://us-python.pkg.dev/colab-wheels/public/simple/\n",
            "Requirement already satisfied: SpeechRecognition in /usr/local/lib/python3.7/dist-packages (3.8.1)\n",
            "Requirement already satisfied: pydub in /usr/local/lib/python3.7/dist-packages (0.25.1)\n",
            "Looking in indexes: https://pypi.org/simple, https://us-python.pkg.dev/colab-wheels/public/simple/\n",
            "Requirement already satisfied: SpeechRecognition in /usr/local/lib/python3.7/dist-packages (3.8.1)\n",
            "Requirement already satisfied: pydub in /usr/local/lib/python3.7/dist-packages (0.25.1)\n"
          ]
        }
      ]
    }
  ]
}